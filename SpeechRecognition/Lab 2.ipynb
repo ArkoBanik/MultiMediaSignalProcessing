{
 "cells": [
  {
   "cell_type": "code",
   "execution_count": 14,
   "metadata": {},
   "outputs": [],
   "source": [
    "#imports\n",
    "import numpy as np\n",
    "import os"
   ]
  },
  {
   "cell_type": "markdown",
   "metadata": {},
   "source": [
    "### Feature extraction\n",
    "train will have the training samples and test will have the test samples"
   ]
  },
  {
   "cell_type": "code",
   "execution_count": 88,
   "metadata": {},
   "outputs": [],
   "source": [
    "#Extract feature vectors\n",
    "p = './feature'\n",
    "test = []\n",
    "test_2 = []\n",
    "train = []\n",
    "train_2 = []\n",
    "dirList = ['dg', 'ls', 'mh', 'yx']\n",
    "for d in os.listdir(p):\n",
    "    #put mh in the test set\n",
    "    if d == 'mh':\n",
    "        dirpath = p + '/' + d\n",
    "        filelist = os.listdir(dirpath)\n",
    "        word = [[] for i in range(5)]\n",
    "        rn1 = np.random.randint(0,5)\n",
    "        rn2 = np.random.randint(5,10)\n",
    "        rn3 = np.random.randint(10,15)\n",
    "        rn4 = np.random.randint(15,20)\n",
    "        rn5 = np.random.randint(20,25)\n",
    "        for i in range(len(filelist)):\n",
    "            f = open(dirpath + '/' + filelist[i])\n",
    "            data_ = f.readlines() \n",
    "            data = [i.split(',') for i in data_]\n",
    "            for sample in range(len(data)):\n",
    "                data[sample] = [float(s) for s in data[sample] ]\n",
    "            word[i//5].append(data)\n",
    "        test.append(word)\n",
    "    else:\n",
    "        if d in dirList:\n",
    "            #put all others in train\n",
    "            dirpath = p + '/' + d\n",
    "            filelist = os.listdir(dirpath)\n",
    "            word = [[] for i in range(5)]\n",
    "            for i in range(len(filelist)):\n",
    "                f = open(dirpath + '/' + filelist[i])\n",
    "                data_ = f.readlines() \n",
    "                data = [i.split(',') for i in data_]\n",
    "                for sample in range(len(data)):\n",
    "                    data[sample] = [float(s) for s in data[sample] ]\n",
    "                word[i//5].append(data)\n",
    "            train.append(word)"
   ]
  },
  {
   "cell_type": "code",
   "execution_count": null,
   "metadata": {},
   "outputs": [],
   "source": []
  }
 ],
 "metadata": {
  "kernelspec": {
   "display_name": "Python 3",
   "language": "python",
   "name": "python3"
  },
  "language_info": {
   "codemirror_mode": {
    "name": "ipython",
    "version": 3
   },
   "file_extension": ".py",
   "mimetype": "text/x-python",
   "name": "python",
   "nbconvert_exporter": "python",
   "pygments_lexer": "ipython3",
   "version": "3.6.5"
  }
 },
 "nbformat": 4,
 "nbformat_minor": 2
}
